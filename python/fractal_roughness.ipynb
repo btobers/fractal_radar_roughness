{
 "cells": [
  {
   "cell_type": "markdown",
   "metadata": {},
   "source": [
    "Code developed to assess fractal surface roughness for radar sounding data.\n",
    "\n",
    "This analyzes a DTM within the radar footprint for each radar trace in a profile.\n",
    "\n",
    "This follows Petersen and Holt, 2022 (https://doi.org/10.1109/TGRS.2021.3094762)\n",
    "\n",
    "Eric I. Petersen, Brandon S. Tober\n",
    "\n",
    "20220310\n",
    "\n",
    "\n",
    "pseudocode:\n",
    "1) extract topographic profile from a DTM within the radar footprint and calculate the RMS slope ($s$)\n",
    "\n",
    "$$\n",
    "s(\\Delta x) =  \\frac{\n",
    "                    \\sqrt{\n",
    "                        \\langle \n",
    "                            (z(x) - z(x + \\Delta x)^2)\n",
    "                        \\rangle \n",
    "                    }}\n",
    "                    {\\Delta x}\n",
    "$$\n",
    "\n",
    "where $\\Delta x$ is a range of horizontal distances over which to calculate the RMS slope\n",
    "\n",
    "For Petersen and Holt, 2022, \"$s(\\Delta x)$ was calculated over a range of $\\Delta x = 15-1500$ m, crossing two orders of magnitude between the radar wavelength and the order of SHARAD's footprint.\"\n",
    "\n",
    "The RMS slope for all possible topographic profiles for each radar trace, DTM sample pair are averaged\n",
    "\n",
    "2. The Hurst exponent is extracted by fitting measured $s(\\Delta x)$ to the equation:\n",
    "\n",
    "$$\n",
    "s(\\Delta x) =  s_\\lambda \\left(\n",
    "                    \\frac{\n",
    "                        \\Delta x}\n",
    "                        {\\lambda}\n",
    "                        \\right)\n",
    "                        ^{H-1}\n",
    "$$\n",
    "\n",
    "where $s_{\\lambda}$ is the rms slope at the scale of the radar wavelength, and $H$ is the Hurst exponent\n",
    "\n",
    "3. Calculate theoretical radar backscatter for each radar trace $\\sigma_0 + \\sigma_B ^0$ as a function of the RMS slope and Hurst exponent\n",
    "\n",
    "\n",
    "\n"
   ]
  },
  {
   "cell_type": "code",
   "execution_count": null,
   "metadata": {},
   "outputs": [],
   "source": []
  },
  {
   "cell_type": "code",
   "execution_count": null,
   "metadata": {},
   "outputs": [],
   "source": []
  },
  {
   "cell_type": "code",
   "execution_count": 4,
   "metadata": {},
   "outputs": [],
   "source": [
    "### imports ###\n",
    "import numpy as np\n",
    "import pandas as pd\n",
    "from radar_rough_funcs import detrend\n",
    "from radar_rough_funcs import calc_roughness_profile\n",
    "from radar_rough_funcs import calc_hurst_rmsslope\n",
    "from radar_rough_funcs import calc_fractalrough_DTM"
   ]
  }
 ],
 "metadata": {
  "interpreter": {
   "hash": "6ce2b7de35f4bc6ffe4dc680999ff189dd1d9024fae5a7f7ce70e9fdb22086e7"
  },
  "kernelspec": {
   "display_name": "Python 3.8.12 ('gp_r')",
   "language": "python",
   "name": "python3"
  },
  "language_info": {
   "codemirror_mode": {
    "name": "ipython",
    "version": 3
   },
   "file_extension": ".py",
   "mimetype": "text/x-python",
   "name": "python",
   "nbconvert_exporter": "python",
   "pygments_lexer": "ipython3",
   "version": "3.8.12"
  },
  "orig_nbformat": 4
 },
 "nbformat": 4,
 "nbformat_minor": 2
}
